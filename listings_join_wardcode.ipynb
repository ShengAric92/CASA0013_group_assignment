{
 "cells": [
  {
   "cell_type": "code",
   "execution_count": 17,
   "id": "b069eaf1-096d-44c3-9567-d15f79176b4b",
   "metadata": {},
   "outputs": [],
   "source": [
    "import requests\n",
    "import zipfile\n",
    "import os\n",
    "import tempfile\n",
    "import geopandas as gpd\n",
    "\n",
    "# URL of the zip file containing the shapefile\n",
    "url = 'https://github.com/ShengAric92/CASA0013_group_assignment/blob/main/WD_DEC_2022_UK_BGC.zip?raw=true'\n",
    "\n",
    "# Download the zip file\n",
    "response = requests.get(url)\n",
    "zip_file_path = tempfile.mktemp(suffix=\".zip\")\n",
    "\n",
    "with open(zip_file_path, 'wb') as f:\n",
    "    f.write(response.content)\n",
    "\n",
    "# Extract the zip file\n",
    "with zipfile.ZipFile(zip_file_path, 'r') as zip_ref:\n",
    "    temp_dir = tempfile.mkdtemp()\n",
    "    zip_ref.extractall(temp_dir)\n",
    "\n",
    "# Find the shapefile and read it using geopandas\n",
    "for file in os.listdir(temp_dir):\n",
    "    if file.endswith(\".shp\"):\n",
    "        shapefile_path = os.path.join(temp_dir, file)\n",
    "        wards = gpd.read_file(shapefile_path)\n",
    "        break"
   ]
  },
  {
   "cell_type": "code",
   "execution_count": 18,
   "id": "ca47c850-bf77-419f-b687-4501113ef7a6",
   "metadata": {},
   "outputs": [
    {
     "name": "stderr",
     "output_type": "stream",
     "text": [
      "/tmp/ipykernel_46850/571644261.py:14: DtypeWarning: Columns (17) have mixed types. Specify dtype option on import or set low_memory=False.\n",
      "  listings = pd.read_csv(csv_string)\n"
     ]
    }
   ],
   "source": [
    "import pandas as pd\n",
    "import requests\n",
    "from io import StringIO\n",
    "\n",
    "# URL of the CSV file\n",
    "url = 'http://data.insideairbnb.com/united-kingdom/england/london/2023-09-06/visualisations/listings.csv'\n",
    "\n",
    "# Download the CSV file\n",
    "response = requests.get(url)\n",
    "response.raise_for_status()  # This will raise an error if the download failed\n",
    "\n",
    "# Read the CSV file into a Pandas DataFrame\n",
    "csv_string = StringIO(response.text)\n",
    "listings = pd.read_csv(csv_string)"
   ]
  },
  {
   "cell_type": "code",
   "execution_count": 19,
   "id": "a2047af6-bd26-42ae-bff5-20a82f5b2828",
   "metadata": {},
   "outputs": [
    {
     "name": "stdout",
     "output_type": "stream",
     "text": [
      "      id                                               name  latitude  \\\n",
      "0  13913  Rental unit in Islington · ★4.80 · 1 bedroom ·...  51.56861   \n",
      "1  15400  Rental unit in London · ★4.80 · 1 bedroom · 1 ...  51.48780   \n",
      "2  92644  Rental unit in Earlsfield · ★4.57 · 1 bedroom ...  51.44201   \n",
      "3  17402  Rental unit in London · ★4.76 · 3 bedrooms · 3...  51.52195   \n",
      "4  93015  Rental unit in Hammersmith · ★4.82 · 2 bedroom...  51.49993   \n",
      "\n",
      "   longitude     WD22CD             WD22NM  \n",
      "0   -0.11270  E05013712         Tollington  \n",
      "1   -0.16813  E05009405            Stanley  \n",
      "2   -0.18739  E05014027  Wandsworth Common  \n",
      "3   -0.14094  E05013808           West End  \n",
      "4   -0.21707  E05013735        Brook Green  \n"
     ]
    },
    {
     "name": "stderr",
     "output_type": "stream",
     "text": [
      "/opt/conda/lib/python3.11/site-packages/IPython/core/interactiveshell.py:3466: FutureWarning: The `op` parameter is deprecated and will be removed in a future release. Please use the `predicate` parameter instead.\n",
      "  if await self.run_code(code, result, async_=asy):\n"
     ]
    }
   ],
   "source": [
    "from shapely.geometry import Point\n",
    "import pandas as pd\n",
    "import geopandas as gpd\n",
    "\n",
    "# Assuming listings is a list of dictionaries, convert it to a DataFrame\n",
    "listings_df = pd.DataFrame(listings)\n",
    "\n",
    "# Convert listings latitude and longitude to Point objects\n",
    "listings_df['geometry'] = listings_df.apply(lambda row: Point(row['longitude'], row['latitude']), axis=1)\n",
    "\n",
    "# Convert DataFrame to GeoDataFrame\n",
    "listings_geo = gpd.GeoDataFrame(listings_df, geometry='geometry')\n",
    "\n",
    "# Set the coordinate reference system (CRS) to EPSG:4326 (WGS 84)\n",
    "listings_geo.set_crs(epsg=4326, inplace=True)\n",
    "\n",
    "# Ensure wards data is in the same CRS as listings_geo\n",
    "wards = wards.to_crs(epsg=4326)\n",
    "\n",
    "# Perform the spatial join\n",
    "listings_with_wardcode = gpd.sjoin(listings_geo, wards, how=\"left\", op='intersects')\n",
    "\n",
    "# Select columns to display\n",
    "##The column name may change,ESPECITALLY WD22CD AND WD22NM, SO PAY ATTENTION!\n",
    "columns_to_display = ['id', 'name', 'latitude', 'longitude', 'WD22CD', 'WD22NM']\n",
    "result = listings_with_wardcode[columns_to_display]\n",
    "\n",
    "# Display the result\n",
    "print(result.head())"
   ]
  },
  {
   "cell_type": "code",
   "execution_count": 14,
   "id": "0ccda0c4-657f-41fb-9614-6758e9c717fa",
   "metadata": {},
   "outputs": [],
   "source": [
    "listings_with_ward.to_csv('listings_with_wardcode.csv', index=False)"
   ]
  }
 ],
 "metadata": {
  "kernelspec": {
   "display_name": "Python 3 (ipykernel)",
   "language": "python",
   "name": "python3"
  },
  "language_info": {
   "codemirror_mode": {
    "name": "ipython",
    "version": 3
   },
   "file_extension": ".py",
   "mimetype": "text/x-python",
   "name": "python",
   "nbconvert_exporter": "python",
   "pygments_lexer": "ipython3",
   "version": "3.11.5"
  }
 },
 "nbformat": 4,
 "nbformat_minor": 5
}
